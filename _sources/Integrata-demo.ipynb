{
 "cells": [
  {
   "cell_type": "markdown",
   "id": "fbb4c4f7",
   "metadata": {},
   "source": [
    "# Integrata: Numerical Integration Demo (Julia & Fortran)\n",
    "\n",
    "Welcome to the Integrata documentation and demo notebook! This notebook demonstrates the concepts behind Integrata using the Julia language, with code and explanations for Simpson's Rule and the Trapezoidal Rule. We'll also compare results to Python/NumPy/Scipy and show how to use Integrata from the command line.\n",
    "\n",
    "---\n",
    "\n",
    "## 1. Import Required Libraries\n",
    "\n",
    "We'll use Julia's built-in math and plotting libraries for demonstration."
   ]
  },
  {
   "cell_type": "code",
   "execution_count": null,
   "id": "2b9a794f",
   "metadata": {
    "vscode": {
     "languageId": "julia"
    }
   },
   "outputs": [],
   "source": [
    "import numpy as np\n",
    "import matplotlib.pyplot as plt\n",
    "\n",
    "np.random.seed(42)\n",
    "print(\"Libraries loaded. Ready for integration demos!\")"
   ]
  },
  {
   "cell_type": "markdown",
   "id": "279d8d6b",
   "metadata": {},
   "source": [
    "## 2. Simpson's Rule: Theory & Example\n",
    "\n",
    "Simpson's Rule is a numerical method for approximating definite integrals. It works best for smooth functions and divides the interval into an even number of subintervals.\n",
    "\n",
    "We'll demonstrate Simpson's Rule by integrating $f(x) = \\sin(x)$ over $[0, \\pi]$, where the exact result is 2."
   ]
  },
  {
   "cell_type": "code",
   "execution_count": null,
   "id": "273b14c6",
   "metadata": {
    "vscode": {
     "languageId": "julia"
    }
   },
   "outputs": [],
   "source": [
    "import numpy as np\n",
    "import matplotlib.pyplot as plt\n",
    "\n",
    "f = np.sin\n",
    "a, b = 0.0, np.pi\n",
    "\n",
    "xs = np.linspace(a, b, 100)\n",
    "ys = f(xs)\n",
    "\n",
    "plt.plot(xs, ys, label=\"sin(x)\")\n",
    "plt.xlabel(\"x\")\n",
    "plt.ylabel(\"f(x)\")\n",
    "plt.title(\"f(x) = sin(x) on [0, π]\")\n",
    "plt.legend(loc=\"upper right\")\n",
    "plt.show()"
   ]
  },
  {
   "cell_type": "code",
   "execution_count": null,
   "id": "f7137c93",
   "metadata": {
    "vscode": {
     "languageId": "julia"
    }
   },
   "outputs": [],
   "source": [
    "def simpsons_rule(f, a, b, n):\n",
    "    if n % 2 != 0:\n",
    "        raise ValueError(\"n must be even for Simpson's Rule\")\n",
    "    h = (b - a) / n\n",
    "    s = f(a) + f(b)\n",
    "    for i in range(1, n, 2):\n",
    "        s += 4 * f(a + i * h)\n",
    "    for i in range(2, n-1, 2):\n",
    "        s += 2 * f(a + i * h)\n",
    "    return s * h / 3\n",
    "\n",
    "n = 10  # Must be even\n",
    "approx = simpsons_rule(f, a, b, n)\n",
    "print(f\"Simpson's Rule approximation (n={n}): {approx:.8f}\")\n",
    "print(f\"Exact value: {2.0:.8f}\")\n",
    "print(f\"Absolute error: {abs(approx - 2.0):.2e}\")"
   ]
  },
  {
   "cell_type": "markdown",
   "id": "15f4dee1",
   "metadata": {},
   "source": [
    "## 3. Trapezoidal Rule: Theory & Example\n",
    "\n",
    "The Trapezoidal Rule approximates the area under a curve by dividing it into trapezoids. It's simpler but less accurate than Simpson's Rule for smooth functions.\n",
    "\n",
    "Let's apply it to $f(x) = \\sin(x)$ over $[0, \\pi]$ for comparison."
   ]
  },
  {
   "cell_type": "code",
   "execution_count": null,
   "id": "19ee0d4b",
   "metadata": {
    "vscode": {
     "languageId": "julia"
    }
   },
   "outputs": [],
   "source": [
    "def trapezoidal_rule(f, a, b, n):\n",
    "    h = (b - a) / n\n",
    "    s = 0.5 * (f(a) + f(b))\n",
    "    for i in range(1, n):\n",
    "        s += f(a + i * h)\n",
    "    return s * h\n",
    "\n",
    "n = 10\n",
    "trap_approx = trapezoidal_rule(f, a, b, n)\n",
    "print(f\"Trapezoidal Rule approximation (n={n}): {trap_approx:.8f}\")\n",
    "print(f\"Exact value: {2.0:.8f}\")\n",
    "print(f\"Absolute error: {abs(trap_approx - 2.0):.2e}\")"
   ]
  },
  {
   "cell_type": "markdown",
   "id": "e3453512",
   "metadata": {},
   "source": [
    "## 4. Results Comparison & Using Integrata\n",
    "\n",
    "As shown above, Simpson's Rule is generally more accurate than the Trapezoidal Rule for smooth functions like $\\sin(x)$. Both methods are implemented in Integrata (Fortran), which you can use from the command line:\n",
    "\n",
    "\n",
    "```sh\n",
    "make run\n",
    "```\n",
    "\n",
    "\n",
    "Follow the menu prompts to select the integration method and input your function, interval, and number of subintervals.\n",
    "\n",
    "\n",
    "---\n",
    "\n",
    "\n",
    "For more details, see the [README](https://github.com/CodeMeAPixel/Integrata/blob/master/README.md) and the Fortran source code in [src/](https://github.com/CodeMeAPixel/Integrata/tree/master/src)."
   ]
  },
  {
   "cell_type": "markdown",
   "id": "589a4f43",
   "metadata": {},
   "source": [
    "---\n",
    "\n",
    "## 5. Further Reading & Contributing\n",
    "\n",
    "\n",
    "- [Integrata GitHub Repository](https://github.com/CodeMeAPixel/Integrata)\n",
    "- [Numerical Integration (Wikipedia)](https://en.wikipedia.org/wiki/Numerical_integration)\n",
    "- [Simpson's Rule (Wikipedia)](https://en.wikipedia.org/wiki/Simpson%27s_rule)\n",
    "- [Trapezoidal Rule (Wikipedia)](https://en.wikipedia.org/wiki/Trapezoidal_rule)\n",
    "\n",
    "\n",
    "Want to contribute? See [CONTRIBUTING.md](https://github.com/CodeMeAPixel/Integrata/blob/master/CONTRIBUTING.md) and open an issue or pull request!\n",
    "\n",
    "\n",
    "---\n",
    "\n",
    "\n",
    "*This notebook is part of the Integrata documentation and can be published on GitHub Pages using Jupyter Book or similar tools.*"
   ]
  }
 ],
 "metadata": {
  "language_info": {
   "name": "python"
  }
 },
 "nbformat": 4,
 "nbformat_minor": 5
}
